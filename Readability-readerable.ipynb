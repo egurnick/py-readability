{
 "cells": [
  {
   "cell_type": "code",
   "execution_count": 33,
   "metadata": {},
   "outputs": [],
   "source": [
    "from bs4 import BeautifulSoup\n",
    "import requests\n",
    "import re\n",
    "from collections.abc import Callable"
   ]
  },
  {
   "cell_type": "code",
   "execution_count": 2,
   "metadata": {},
   "outputs": [],
   "source": [
    "response = requests.get(\"https://www.builtinla.com/job/engineer/full-stack-software-engineer/132124\")"
   ]
  },
  {
   "cell_type": "code",
   "execution_count": 3,
   "metadata": {},
   "outputs": [],
   "source": [
    "doc = response.text"
   ]
  },
  {
   "cell_type": "code",
   "execution_count": 48,
   "metadata": {},
   "outputs": [],
   "source": [
    "# /* eslint-env es6:false */\n",
    "# /*\n",
    "#  * Copyright (c) 2010 Arc90 Inc\n",
    "#  *\n",
    "#  * Licensed under the Apache License, Version 2.0 (the \"License\");\n",
    "#  * you may not use this file except in compliance with the License.\n",
    "#  * You may obtain a copy of the License at\n",
    "#  *\n",
    "#  *     http://www.apache.org/licenses/LICENSE-2.0\n",
    "#  *\n",
    "#  * Unless required by applicable law or agreed to in writing, software\n",
    "#  * distributed under the License is distributed on an \"AS IS\" BASIS,\n",
    "#  * WITHOUT WARRANTIES OR CONDITIONS OF ANY KIND, either express or implied.\n",
    "#  * See the License for the specific language governing permissions and\n",
    "#  * limitations under the License.\n",
    "#  */\n",
    "# \n",
    "# /*\n",
    "#  * This code is heavily based on Arc90's readability.js (1.7.1) script\n",
    "#  * available at: http://code.google.com/p/arc90labs-readability\n",
    "#  */\n",
    "\n",
    "REGEXPS = {\n",
    "    # Note: These two regular expressions are duplicated in\n",
    "    # Readability.js. Please keep both copies in sync.\n",
    "    \"unlikelyCandidates\": re.compile(r\"-ad-|ai2html|banner|breadcrumbs|combx|comment|community|cover-wrap|disqus|extra|footer|gdpr|header|legends|menu|related|remark|replies|rss|shoutbox|sidebar|skyscraper|social|sponsor|supplemental|ad-break|agegate|pagination|pager|popup|yom-remote\", re.IGNORECASE),\n",
    "    \"okMaybeItsACandidate\": re.compile(r\"and|article|body|column|content|main|shadow\", re.IGNORECASE),\n",
    "}\n",
    "\n",
    "def isNodeVisible(node):\n",
    "    # Have to null-check node.get('style') and node.get('class') to deal with SVG and MathML nodes.\n",
    "    return (\n",
    "        (not node.get('style') or node.get('style') != \"none\")\n",
    "        and not node.has_attr('hidden')\n",
    "        # check for \"fallback-image\" so that wikimedia math images are displayed\n",
    "        and (not node.has_attr('aria-hidden') \n",
    "            or node.get('aria-hidden') != \"true\" \n",
    "            or (node.get('class') and 'fallback-image' in node.get('class')))\n",
    "    )\n",
    "\n",
    "\n",
    "# /**\n",
    "#  * Decides whether or not the document is reader-able without parsing the whole thing.\n",
    "#  * @param {Object} options Configuration object.\n",
    "#  * @param {number} [options.minContentLength=140] The minimum node content length used to decide if the document is readerable.\n",
    "#  * @param {number} [options.minScore=20] The minumum cumulated 'score' used to determine if the document is readerable.\n",
    "#  * @param {Function} [options.visibilityChecker=isNodeVisible] The function used to determine if a node is visible.\n",
    "#  * @return {boolean} Whether or not we suspect Readability.parse() will suceeed at returning an article object.\n",
    "#  */\n",
    "def isProbablyReaderable(doc, options = {}):\n",
    "    soup = BeautifulSoup(doc, 'html.parser')\n",
    "#   // For backward compatibility reasons 'options' can either be a configuration object or the function used\n",
    "#   // to determine if a node is visible.\n",
    "    if isinstance(options, Callable):\n",
    "        options = {\"visibilityChecker\": options}\n",
    "\n",
    "    defaultOptions = { \"minScore\": 20, \"minContentLength\": 140, \"visibilityChecker\": isNodeVisible }\n",
    "    options = {**defaultOptions, **options}\n",
    "\n",
    "    nodes = soup.select(\"p, pre, article\")\n",
    "\n",
    "    # Get <div> nodes which have <br> node(s) and append them into the `nodes` variable.\n",
    "    # Some articles' DOM structures might look like\n",
    "    # <div>\n",
    "    #   Sentences<br>\n",
    "    #   <br>\n",
    "    #   Sentences<br>\n",
    "    # </div>\n",
    "    brNodes = soup.select(\"div > br\")\n",
    "    if brNodes:\n",
    "        # create a set of nodes and add the parent nodes of <br> elements\n",
    "        node_set = set(nodes)\n",
    "        for nodes in brNodes:\n",
    "            node_set.add(node.parent)\n",
    "        # convert the set back to a list\n",
    "        nodes = list(node_set)\n",
    "\n",
    "    score = 0;\n",
    "    # This is a little cheeky, we use the accumulator 'score' to decide what to return from\n",
    "    # this callback:\n",
    "    for node in nodes:\n",
    "        if not options[\"visibilityChecker\"](node):\n",
    "            continue\n",
    "\n",
    "        matchString = \" \".join(node.get(\"class\", [])) + \" \" + \" \".join(node.get(\"id\", []))\n",
    "        if (re.search(REGEXPS[\"unlikelyCandidates\"], matchString) and\n",
    "                not re.search(REGEXPS[\"okMaybeItsACandidate\"], matchString)):\n",
    "            continue\n",
    "\n",
    "        if node.select_one(\"li p\"):\n",
    "            continue\n",
    "\n",
    "        textContentLength = len(node.get_text(strip=True))\n",
    "        if textContentLength < options[\"minContentLength\"]:\n",
    "            continue\n",
    "\n",
    "        score += (textContentLength - options[\"minContentLength\"]) ** 0.5\n",
    "\n",
    "        if score > options[\"minScore\"]:\n",
    "            return True\n",
    "\n",
    "    return False\n"
   ]
  },
  {
   "cell_type": "code",
   "execution_count": 49,
   "metadata": {},
   "outputs": [
    {
     "name": "stdout",
     "output_type": "stream",
     "text": [
      "Score:  76.28237017817419 20\n"
     ]
    },
    {
     "data": {
      "text/plain": [
       "True"
      ]
     },
     "execution_count": 49,
     "metadata": {},
     "output_type": "execute_result"
    }
   ],
   "source": [
    "isProbablyReaderable(response.text)"
   ]
  },
  {
   "cell_type": "code",
   "execution_count": null,
   "metadata": {},
   "outputs": [],
   "source": []
  }
 ],
 "metadata": {
  "kernelspec": {
   "display_name": "mlenv",
   "language": "python",
   "name": "python3"
  },
  "language_info": {
   "codemirror_mode": {
    "name": "ipython",
    "version": 3
   },
   "file_extension": ".py",
   "mimetype": "text/x-python",
   "name": "python",
   "nbconvert_exporter": "python",
   "pygments_lexer": "ipython3",
   "version": "3.9.16"
  },
  "orig_nbformat": 4
 },
 "nbformat": 4,
 "nbformat_minor": 2
}
